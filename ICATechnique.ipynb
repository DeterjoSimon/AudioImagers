{
 "cells": [
  {
   "cell_type": "markdown",
   "metadata": {},
   "source": [
    "## ICA sound seperation"
   ]
  },
  {
   "cell_type": "markdown",
   "metadata": {},
   "source": [
    "Here I will try to apply sound seperation to a sound sample, followed by a sound to image conversion for each of the different sample sounds. "
   ]
  },
  {
   "cell_type": "code",
   "execution_count": 1,
   "metadata": {},
   "outputs": [
    {
     "name": "stdout",
     "output_type": "stream",
     "text": [
      "Collecting spleeter\n",
      "  Downloading spleeter-2.3.0-py3-none-any.whl (51 kB)\n",
      "\u001b[K     |████████████████████████████████| 51 kB 3.0 MB/s eta 0:00:011\n",
      "\u001b[?25hCollecting httpx[http2]<0.20.0,>=0.19.0\n",
      "  Downloading httpx-0.19.0-py3-none-any.whl (77 kB)\n",
      "\u001b[K     |████████████████████████████████| 77 kB 6.7 MB/s eta 0:00:01\n",
      "\u001b[?25hCollecting typer<0.4.0,>=0.3.2\n",
      "  Downloading typer-0.3.2-py3-none-any.whl (21 kB)\n",
      "Collecting llvmlite<0.37.0,>=0.36.0\n",
      "  Downloading llvmlite-0.36.0-cp38-cp38-manylinux2010_x86_64.whl (25.3 MB)\n",
      "\u001b[K     |████████████████████████████████| 25.3 MB 9.4 MB/s eta 0:00:01     |██████████████████▋             | 14.7 MB 9.4 MB/s eta 0:00:02\n",
      "\u001b[?25hCollecting librosa==0.8.0\n",
      "  Downloading librosa-0.8.0.tar.gz (183 kB)\n",
      "\u001b[K     |████████████████████████████████| 183 kB 10.7 MB/s eta 0:00:01\n",
      "\u001b[?25hCollecting norbert==0.2.1\n",
      "  Downloading norbert-0.2.1-py2.py3-none-any.whl (11 kB)\n",
      "Collecting ffmpeg-python==0.2.0\n",
      "  Downloading ffmpeg_python-0.2.0-py3-none-any.whl (25 kB)\n",
      "Collecting pandas<2.0.0,>=1.1.2\n",
      "  Downloading pandas-1.4.2-cp38-cp38-manylinux_2_17_x86_64.manylinux2014_x86_64.whl (11.7 MB)\n",
      "\u001b[K     |████████████████████████████████| 11.7 MB 7.1 MB/s eta 0:00:01\n",
      "\u001b[?25hCollecting numpy<1.20.0,>=1.16.0\n",
      "  Downloading numpy-1.19.5-cp38-cp38-manylinux2010_x86_64.whl (14.9 MB)\n",
      "\u001b[K     |████████████████████████████████| 14.9 MB 10.7 MB/s eta 0:00:01\n",
      "\u001b[?25hCollecting tensorflow==2.5.0\n",
      "  Downloading tensorflow-2.5.0-cp38-cp38-manylinux2010_x86_64.whl (454.4 MB)\n",
      "\u001b[K     |████████████████████████████▍   | 402.5 MB 5.0 MB/s eta 0:00:112     |██████████▉                     | 154.1 MB 11.8 MB/s eta 0:00:26     |██████████████▊                 | 209.5 MB 10.3 MB/s eta 0:00:24     |████████████████████            | 285.5 MB 10.1 MB/s eta 0:00:17"
     ]
    }
   ],
   "source": [
    "pip install spleeter"
   ]
  }
 ],
 "metadata": {
  "interpreter": {
   "hash": "916dbcbb3f70747c44a77c7bcd40155683ae19c65e1c03b4aa3499c5328201f1"
  },
  "kernelspec": {
   "display_name": "Python 3.8.10 64-bit",
   "language": "python",
   "name": "python3"
  },
  "language_info": {
   "codemirror_mode": {
    "name": "ipython",
    "version": 3
   },
   "file_extension": ".py",
   "mimetype": "text/x-python",
   "name": "python",
   "nbconvert_exporter": "python",
   "pygments_lexer": "ipython3",
   "version": "3.8.10"
  },
  "orig_nbformat": 4
 },
 "nbformat": 4,
 "nbformat_minor": 2
}
