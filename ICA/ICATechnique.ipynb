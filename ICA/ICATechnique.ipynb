{
 "cells": [
  {
   "cell_type": "markdown",
   "metadata": {},
   "source": [
    "## ICA sound seperation"
   ]
  },
  {
   "cell_type": "markdown",
   "metadata": {},
   "source": [
    "Here I will try to apply sound seperation to a sound sample, followed by a sound to image conversion for each of the different sample sounds. "
   ]
  },
  {
   "cell_type": "code",
   "execution_count": 1,
   "metadata": {},
   "outputs": [
    {
     "name": "stdout",
     "output_type": "stream",
     "text": [
      "Requirement already satisfied: spleeter in /home/simonl/.local/lib/python3.8/site-packages (2.3.0)\n",
      "Requirement already satisfied: librosa==0.8.0 in /home/simonl/.local/lib/python3.8/site-packages (from spleeter) (0.8.0)\n",
      "Requirement already satisfied: pandas<2.0.0,>=1.1.2 in /home/simonl/.local/lib/python3.8/site-packages (from spleeter) (1.4.2)\n",
      "Requirement already satisfied: ffmpeg-python==0.2.0 in /home/simonl/.local/lib/python3.8/site-packages (from spleeter) (0.2.0)\n",
      "Requirement already satisfied: norbert==0.2.1 in /home/simonl/.local/lib/python3.8/site-packages (from spleeter) (0.2.1)\n",
      "Requirement already satisfied: llvmlite<0.37.0,>=0.36.0 in /home/simonl/.local/lib/python3.8/site-packages (from spleeter) (0.36.0)\n",
      "Requirement already satisfied: tensorflow==2.5.0 in /home/simonl/.local/lib/python3.8/site-packages (from spleeter) (2.5.0)\n",
      "Requirement already satisfied: typer<0.4.0,>=0.3.2 in /home/simonl/.local/lib/python3.8/site-packages (from spleeter) (0.3.2)\n",
      "Requirement already satisfied: httpx[http2]<0.20.0,>=0.19.0 in /home/simonl/.local/lib/python3.8/site-packages (from spleeter) (0.19.0)\n",
      "Requirement already satisfied: numpy<1.20.0,>=1.16.0 in /home/simonl/.local/lib/python3.8/site-packages (from spleeter) (1.19.5)\n",
      "Requirement already satisfied: numba>=0.43.0 in /home/simonl/.local/lib/python3.8/site-packages (from librosa==0.8.0->spleeter) (0.55.1)\n",
      "Requirement already satisfied: audioread>=2.0.0 in /home/simonl/.local/lib/python3.8/site-packages (from librosa==0.8.0->spleeter) (2.1.9)\n",
      "Requirement already satisfied: scikit-learn!=0.19.0,>=0.14.0 in /home/simonl/.local/lib/python3.8/site-packages (from librosa==0.8.0->spleeter) (1.0.2)\n",
      "Requirement already satisfied: joblib>=0.14 in /home/simonl/.local/lib/python3.8/site-packages (from librosa==0.8.0->spleeter) (1.1.0)\n",
      "Requirement already satisfied: scipy>=1.0.0 in /home/simonl/.local/lib/python3.8/site-packages (from librosa==0.8.0->spleeter) (1.8.0)\n",
      "Requirement already satisfied: soundfile>=0.9.0 in /home/simonl/.local/lib/python3.8/site-packages (from librosa==0.8.0->spleeter) (0.10.3.post1)\n",
      "Requirement already satisfied: pooch>=1.0 in /home/simonl/.local/lib/python3.8/site-packages (from librosa==0.8.0->spleeter) (1.6.0)\n",
      "Requirement already satisfied: resampy>=0.2.2 in /home/simonl/.local/lib/python3.8/site-packages (from librosa==0.8.0->spleeter) (0.2.2)\n",
      "Requirement already satisfied: decorator>=3.0.0 in /home/simonl/.local/lib/python3.8/site-packages (from librosa==0.8.0->spleeter) (5.1.1)\n",
      "Requirement already satisfied: python-dateutil>=2.8.1 in /home/simonl/.local/lib/python3.8/site-packages (from pandas<2.0.0,>=1.1.2->spleeter) (2.8.2)\n",
      "Requirement already satisfied: pytz>=2020.1 in /home/simonl/.local/lib/python3.8/site-packages (from pandas<2.0.0,>=1.1.2->spleeter) (2022.1)\n",
      "Requirement already satisfied: future in /usr/lib/python3/dist-packages (from ffmpeg-python==0.2.0->spleeter) (0.18.2)\n",
      "Requirement already satisfied: protobuf>=3.9.2 in /home/simonl/.local/lib/python3.8/site-packages (from tensorflow==2.5.0->spleeter) (3.20.1)\n",
      "Requirement already satisfied: keras-nightly~=2.5.0.dev in /home/simonl/.local/lib/python3.8/site-packages (from tensorflow==2.5.0->spleeter) (2.5.0.dev2021032900)\n",
      "Requirement already satisfied: termcolor~=1.1.0 in /home/simonl/.local/lib/python3.8/site-packages (from tensorflow==2.5.0->spleeter) (1.1.0)\n",
      "Requirement already satisfied: gast==0.4.0 in /home/simonl/.local/lib/python3.8/site-packages (from tensorflow==2.5.0->spleeter) (0.4.0)\n",
      "Requirement already satisfied: typing-extensions~=3.7.4 in /home/simonl/.local/lib/python3.8/site-packages (from tensorflow==2.5.0->spleeter) (3.7.4.3)\n",
      "Requirement already satisfied: keras-preprocessing~=1.1.2 in /home/simonl/.local/lib/python3.8/site-packages (from tensorflow==2.5.0->spleeter) (1.1.2)\n",
      "Requirement already satisfied: astunparse~=1.6.3 in /home/simonl/.local/lib/python3.8/site-packages (from tensorflow==2.5.0->spleeter) (1.6.3)\n",
      "Requirement already satisfied: tensorflow-estimator<2.6.0,>=2.5.0rc0 in /home/simonl/.local/lib/python3.8/site-packages (from tensorflow==2.5.0->spleeter) (2.5.0)\n",
      "Requirement already satisfied: absl-py~=0.10 in /home/simonl/.local/lib/python3.8/site-packages (from tensorflow==2.5.0->spleeter) (0.15.0)\n",
      "Requirement already satisfied: six~=1.15.0 in /home/simonl/.local/lib/python3.8/site-packages (from tensorflow==2.5.0->spleeter) (1.15.0)\n",
      "Requirement already satisfied: h5py~=3.1.0 in /home/simonl/.local/lib/python3.8/site-packages (from tensorflow==2.5.0->spleeter) (3.1.0)\n",
      "Requirement already satisfied: wheel~=0.35 in /home/simonl/.local/lib/python3.8/site-packages (from tensorflow==2.5.0->spleeter) (0.37.1)\n",
      "Requirement already satisfied: flatbuffers~=1.12.0 in /home/simonl/.local/lib/python3.8/site-packages (from tensorflow==2.5.0->spleeter) (1.12)\n",
      "Requirement already satisfied: wrapt~=1.12.1 in /home/simonl/.local/lib/python3.8/site-packages (from tensorflow==2.5.0->spleeter) (1.12.1)\n",
      "Requirement already satisfied: google-pasta~=0.2 in /home/simonl/.local/lib/python3.8/site-packages (from tensorflow==2.5.0->spleeter) (0.2.0)\n",
      "Requirement already satisfied: grpcio~=1.34.0 in /home/simonl/.local/lib/python3.8/site-packages (from tensorflow==2.5.0->spleeter) (1.34.1)\n",
      "Requirement already satisfied: opt-einsum~=3.3.0 in /home/simonl/.local/lib/python3.8/site-packages (from tensorflow==2.5.0->spleeter) (3.3.0)\n",
      "Requirement already satisfied: tensorboard~=2.5 in /home/simonl/.local/lib/python3.8/site-packages (from tensorflow==2.5.0->spleeter) (2.9.0)\n",
      "Requirement already satisfied: click<7.2.0,>=7.1.1 in /home/simonl/.local/lib/python3.8/site-packages (from typer<0.4.0,>=0.3.2->spleeter) (7.1.2)\n",
      "Requirement already satisfied: rfc3986[idna2008]<2,>=1.3 in /home/simonl/.local/lib/python3.8/site-packages (from httpx[http2]<0.20.0,>=0.19.0->spleeter) (1.5.0)\n",
      "Requirement already satisfied: sniffio in /home/simonl/.local/lib/python3.8/site-packages (from httpx[http2]<0.20.0,>=0.19.0->spleeter) (1.2.0)\n",
      "Requirement already satisfied: charset-normalizer in /home/simonl/.local/lib/python3.8/site-packages (from httpx[http2]<0.20.0,>=0.19.0->spleeter) (2.0.12)\n",
      "Requirement already satisfied: httpcore<0.14.0,>=0.13.3 in /home/simonl/.local/lib/python3.8/site-packages (from httpx[http2]<0.20.0,>=0.19.0->spleeter) (0.13.7)\n",
      "Requirement already satisfied: certifi in /usr/lib/python3/dist-packages (from httpx[http2]<0.20.0,>=0.19.0->spleeter) (2019.11.28)\n",
      "Requirement already satisfied: h2<5,>=3; extra == \"http2\" in /home/simonl/.local/lib/python3.8/site-packages (from httpx[http2]<0.20.0,>=0.19.0->spleeter) (4.1.0)\n",
      "Requirement already satisfied: setuptools in /usr/lib/python3/dist-packages (from numba>=0.43.0->librosa==0.8.0->spleeter) (45.2.0)\n",
      "Requirement already satisfied: threadpoolctl>=2.0.0 in /home/simonl/.local/lib/python3.8/site-packages (from scikit-learn!=0.19.0,>=0.14.0->librosa==0.8.0->spleeter) (3.1.0)\n",
      "Requirement already satisfied: cffi>=1.0 in /home/simonl/.local/lib/python3.8/site-packages (from soundfile>=0.9.0->librosa==0.8.0->spleeter) (1.15.0)\n",
      "Requirement already satisfied: requests>=2.19.0 in /usr/lib/python3/dist-packages (from pooch>=1.0->librosa==0.8.0->spleeter) (2.22.0)\n",
      "Requirement already satisfied: appdirs>=1.3.0 in /home/simonl/.local/lib/python3.8/site-packages (from pooch>=1.0->librosa==0.8.0->spleeter) (1.4.4)\n",
      "Requirement already satisfied: packaging>=20.0 in /home/simonl/.local/lib/python3.8/site-packages (from pooch>=1.0->librosa==0.8.0->spleeter) (21.3)\n",
      "Requirement already satisfied: tensorboard-data-server<0.7.0,>=0.6.0 in /home/simonl/.local/lib/python3.8/site-packages (from tensorboard~=2.5->tensorflow==2.5.0->spleeter) (0.6.1)\n",
      "Requirement already satisfied: google-auth-oauthlib<0.5,>=0.4.1 in /home/simonl/.local/lib/python3.8/site-packages (from tensorboard~=2.5->tensorflow==2.5.0->spleeter) (0.4.6)\n",
      "Requirement already satisfied: tensorboard-plugin-wit>=1.6.0 in /home/simonl/.local/lib/python3.8/site-packages (from tensorboard~=2.5->tensorflow==2.5.0->spleeter) (1.8.1)\n",
      "Requirement already satisfied: google-auth<3,>=1.6.3 in /home/simonl/.local/lib/python3.8/site-packages (from tensorboard~=2.5->tensorflow==2.5.0->spleeter) (2.6.6)\n",
      "Requirement already satisfied: werkzeug>=1.0.1 in /home/simonl/.local/lib/python3.8/site-packages (from tensorboard~=2.5->tensorflow==2.5.0->spleeter) (2.1.2)\n",
      "Requirement already satisfied: markdown>=2.6.8 in /home/simonl/.local/lib/python3.8/site-packages (from tensorboard~=2.5->tensorflow==2.5.0->spleeter) (3.3.6)\n",
      "Requirement already satisfied: idna; extra == \"idna2008\" in /usr/lib/python3/dist-packages (from rfc3986[idna2008]<2,>=1.3->httpx[http2]<0.20.0,>=0.19.0->spleeter) (2.8)\n",
      "Requirement already satisfied: h11<0.13,>=0.11 in /home/simonl/.local/lib/python3.8/site-packages (from httpcore<0.14.0,>=0.13.3->httpx[http2]<0.20.0,>=0.19.0->spleeter) (0.12.0)\n",
      "Requirement already satisfied: anyio==3.* in /home/simonl/.local/lib/python3.8/site-packages (from httpcore<0.14.0,>=0.13.3->httpx[http2]<0.20.0,>=0.19.0->spleeter) (3.5.0)\n"
     ]
    },
    {
     "name": "stdout",
     "output_type": "stream",
     "text": [
      "Requirement already satisfied: hpack<5,>=4.0 in /home/simonl/.local/lib/python3.8/site-packages (from h2<5,>=3; extra == \"http2\"->httpx[http2]<0.20.0,>=0.19.0->spleeter) (4.0.0)\n",
      "Requirement already satisfied: hyperframe<7,>=6.0 in /home/simonl/.local/lib/python3.8/site-packages (from h2<5,>=3; extra == \"http2\"->httpx[http2]<0.20.0,>=0.19.0->spleeter) (6.0.1)\n",
      "Requirement already satisfied: pycparser in /home/simonl/.local/lib/python3.8/site-packages (from cffi>=1.0->soundfile>=0.9.0->librosa==0.8.0->spleeter) (2.21)\n",
      "Requirement already satisfied: pyparsing!=3.0.5,>=2.0.2 in /home/simonl/.local/lib/python3.8/site-packages (from packaging>=20.0->pooch>=1.0->librosa==0.8.0->spleeter) (3.0.7)\n",
      "Requirement already satisfied: requests-oauthlib>=0.7.0 in /home/simonl/.local/lib/python3.8/site-packages (from google-auth-oauthlib<0.5,>=0.4.1->tensorboard~=2.5->tensorflow==2.5.0->spleeter) (1.3.1)\n",
      "Requirement already satisfied: rsa<5,>=3.1.4; python_version >= \"3.6\" in /home/simonl/.local/lib/python3.8/site-packages (from google-auth<3,>=1.6.3->tensorboard~=2.5->tensorflow==2.5.0->spleeter) (4.8)\n",
      "Requirement already satisfied: pyasn1-modules>=0.2.1 in /home/simonl/.local/lib/python3.8/site-packages (from google-auth<3,>=1.6.3->tensorboard~=2.5->tensorflow==2.5.0->spleeter) (0.2.8)\n",
      "Requirement already satisfied: cachetools<6.0,>=2.0.0 in /home/simonl/.local/lib/python3.8/site-packages (from google-auth<3,>=1.6.3->tensorboard~=2.5->tensorflow==2.5.0->spleeter) (5.0.0)\n",
      "Requirement already satisfied: importlib-metadata>=4.4; python_version < \"3.10\" in /home/simonl/.local/lib/python3.8/site-packages (from markdown>=2.6.8->tensorboard~=2.5->tensorflow==2.5.0->spleeter) (4.11.3)\n",
      "Requirement already satisfied: oauthlib>=3.0.0 in /usr/lib/python3/dist-packages (from requests-oauthlib>=0.7.0->google-auth-oauthlib<0.5,>=0.4.1->tensorboard~=2.5->tensorflow==2.5.0->spleeter) (3.1.0)\n",
      "Requirement already satisfied: pyasn1>=0.1.3 in /home/simonl/.local/lib/python3.8/site-packages (from rsa<5,>=3.1.4; python_version >= \"3.6\"->google-auth<3,>=1.6.3->tensorboard~=2.5->tensorflow==2.5.0->spleeter) (0.4.8)\n",
      "Requirement already satisfied: zipp>=0.5 in /home/simonl/.local/lib/python3.8/site-packages (from importlib-metadata>=4.4; python_version < \"3.10\"->markdown>=2.6.8->tensorboard~=2.5->tensorflow==2.5.0->spleeter) (3.7.0)\n",
      "Note: you may need to restart the kernel to use updated packages.\n"
     ]
    }
   ],
   "source": [
    "pip install spleeter"
   ]
  },
  {
   "cell_type": "code",
   "execution_count": 2,
   "metadata": {},
   "outputs": [],
   "source": [
    "from IPython.display import Audio"
   ]
  },
  {
   "cell_type": "code",
   "execution_count": null,
   "metadata": {},
   "outputs": [],
   "source": []
  }
 ],
 "metadata": {
  "interpreter": {
   "hash": "916dbcbb3f70747c44a77c7bcd40155683ae19c65e1c03b4aa3499c5328201f1"
  },
  "kernelspec": {
   "display_name": "Python 3 (ipykernel)",
   "language": "python",
   "name": "python3"
  },
  "language_info": {
   "codemirror_mode": {
    "name": "ipython",
    "version": 3
   },
   "file_extension": ".py",
   "mimetype": "text/x-python",
   "name": "python",
   "nbconvert_exporter": "python",
   "pygments_lexer": "ipython3",
   "version": "3.8.10"
  }
 },
 "nbformat": 4,
 "nbformat_minor": 2
}
